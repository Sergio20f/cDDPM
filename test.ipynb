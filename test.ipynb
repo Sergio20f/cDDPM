{
 "cells": [
  {
   "cell_type": "code",
   "execution_count": null,
   "metadata": {},
   "outputs": [],
   "source": [
    "import torch\n",
    "import json\n",
    "\n",
    "from utils import generate_new_images, show_images\n",
    "from simple_DDPM import MyDDPM\n",
    "from UNet import MyUNet\n",
    "from cUNet import ConvSODEUNet\n",
    "\n",
    "n_steps, min_beta, max_beta = 1000, 10 ** -4, 0.02  # Originally used by the authors\n",
    "device = torch.device(\"cuda\" if torch.cuda.is_available() else \"cpu\")\n",
    "\n",
    "# Read the config file\n",
    "with open('config.json', 'r') as file:\n",
    "    config = json.load(file)\n",
    "\n",
    "store_path = \"ddpm_STL10.pt\" #config['store_path']\n",
    "fashion = config['fashion']\n",
    "\n",
    "# Testing\n",
    "best_model = MyDDPM(MyUNet(), n_steps=n_steps, device=device)\n",
    "#best_model = MyDDPM(ConvSODEUNet(), n_steps=n_steps, device=device)\n",
    "best_model.load_state_dict(torch.load(store_path, map_location=device))\n",
    "best_model.eval()\n",
    "print(\"Model loaded\")\n",
    "\n",
    "print(\"Generating new images\")\n",
    "generated = generate_new_images(best_model, n_samples=3, device=device,\n",
    "                                gif_name=\"STL10.gif\", h=96, w=96)\n",
    "\n",
    "show_images(generated)"
   ]
  }
 ],
 "metadata": {
  "language_info": {
   "name": "python"
  },
  "orig_nbformat": 4
 },
 "nbformat": 4,
 "nbformat_minor": 2
}
